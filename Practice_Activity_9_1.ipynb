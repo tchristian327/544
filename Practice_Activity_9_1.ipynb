{
  "cells": [
    {
      "cell_type": "markdown",
      "metadata": {
        "id": "F9uql3um69hP"
      },
      "source": [
        "## The Data\n",
        "\n",
        "At this link, you will find a dataset containing information about heart disease patients: https://www.dropbox.com/scl/fi/0vrpdnq5asmeulc4gd50y/ha_1.csv?rlkey=ciisalceotl77ffqhqe3kujzv&dl=1\n",
        "\n",
        "A description of the original dataset can be found here: https://archive.ics.uci.edu/dataset/45/heart+disease (However, this dataset has been cleaned and reduced, and the people have been given fictious names.)"
      ]
    },
    {
      "cell_type": "code",
      "execution_count": 69,
      "metadata": {},
      "outputs": [],
      "source": [
        "import pandas as pd\n",
        "import numpy as np\n",
        "from sklearn.pipeline import Pipeline\n",
        "from sklearn.neighbors import KNeighborsClassifier\n",
        "from sklearn.tree import DecisionTreeClassifier\n",
        "from sklearn.linear_model import LogisticRegression\n",
        "from sklearn.compose import make_column_selector, ColumnTransformer\n",
        "from sklearn.preprocessing import StandardScaler, OneHotEncoder, PolynomialFeatures\n"
      ]
    },
    {
      "cell_type": "code",
      "execution_count": 70,
      "metadata": {},
      "outputs": [
        {
          "name": "stdout",
          "output_type": "stream",
          "text": [
            "<class 'pandas.core.frame.DataFrame'>\n",
            "RangeIndex: 204 entries, 0 to 203\n",
            "Data columns (total 9 columns):\n",
            " #   Column     Non-Null Count  Dtype \n",
            "---  ------     --------------  ----- \n",
            " 0   Name       204 non-null    object\n",
            " 1   age        204 non-null    int64 \n",
            " 2   sex        204 non-null    int64 \n",
            " 3   cp         204 non-null    int64 \n",
            " 4   trtbps     204 non-null    int64 \n",
            " 5   chol       204 non-null    int64 \n",
            " 6   restecg    204 non-null    int64 \n",
            " 7   thalach    204 non-null    int64 \n",
            " 8   diagnosis  204 non-null    object\n",
            "dtypes: int64(7), object(2)\n",
            "memory usage: 14.5+ KB\n",
            "<class 'pandas.core.frame.DataFrame'>\n",
            "RangeIndex: 204 entries, 0 to 203\n",
            "Data columns (total 9 columns):\n",
            " #   Column     Non-Null Count  Dtype \n",
            "---  ------     --------------  ----- \n",
            " 0   Name       204 non-null    object\n",
            " 1   age        204 non-null    int64 \n",
            " 2   sex        204 non-null    int64 \n",
            " 3   cp         204 non-null    int64 \n",
            " 4   trtbps     204 non-null    int64 \n",
            " 5   chol       204 non-null    int64 \n",
            " 6   restecg    204 non-null    int64 \n",
            " 7   thalach    204 non-null    int64 \n",
            " 8   diagnosis  204 non-null    object\n",
            "dtypes: int64(7), object(2)\n",
            "memory usage: 14.5+ KB\n"
          ]
        }
      ],
      "source": [
        "df = pd.read_csv(\"/Users/timothychristian/Desktop/ha_1.csv\")\n",
        "df.info()"
      ]
    },
    {
      "cell_type": "code",
      "execution_count": 71,
      "metadata": {},
      "outputs": [],
      "source": [
        "ct = ColumnTransformer(\n",
        "  [\n",
        "    (\"dummify\", \n",
        "    OneHotEncoder(sparse_output = False, handle_unknown='ignore'),\n",
        "    make_column_selector(dtype_include=object))\n",
        "  ],\n",
        "  remainder = \"passthrough\"\n",
        ")"
      ]
    },
    {
      "cell_type": "markdown",
      "metadata": {
        "id": "O6wa9AzG7xHW"
      },
      "source": [
        "## 1. Logistic Regression\n",
        "\n",
        "Fit a Logistic Regression using only `age` and `chol` (cholesterol) as predictors.\n",
        "\n",
        "For a 55 year old, how high would their cholesterol need to be for the doctors to predict heart disease is present?\n",
        "\n",
        "How high for the doctors to estimate a 90% chance that heart disease is present?"
      ]
    },
    {
      "cell_type": "code",
      "execution_count": 72,
      "metadata": {},
      "outputs": [],
      "source": [
        "X = df[[\"age\", \"chol\"]]\n",
        "y = df[\"diagnosis\"]"
      ]
    },
    {
      "cell_type": "code",
      "execution_count": 73,
      "metadata": {
        "id": "jc13Bmcr6Rzz"
      },
      "outputs": [
        {
          "name": "stdout",
          "output_type": "stream",
          "text": [
            "coefs:  [0.04686331 0.00180124] , intercept: -3.2401122588585896\n",
            "coefs:  [0.04686331 0.00180124] , intercept: -3.2401122588585896\n"
          ]
        }
      ],
      "source": [
        "log_pipe = Pipeline(\n",
        "  [(\"preprocessing\", ct),\n",
        "  (\"logistic_regression\", LogisticRegression())]\n",
        ")\n",
        "\n",
        "log_pipe.fit(X, y)\n",
        "\n",
        "coefs = log_pipe.named_steps[\"logistic_regression\"].coef_[0]\n",
        "intercept = log_pipe.named_steps[\"logistic_regression\"].intercept_[0]\n",
        "print(\"coefs: \", coefs ,\", intercept:\", intercept)"
      ]
    },
    {
      "cell_type": "code",
      "execution_count": 74,
      "metadata": {},
      "outputs": [
        {
          "name": "stdout",
          "output_type": "stream",
          "text": [
            "Cholesterol needed for 50% threshold: 367.87\n",
            "Cholesterol needed for 50% threshold: 367.87\n"
          ]
        }
      ],
      "source": [
        "beta_age = coefs[0]\n",
        "beta_chol = coefs[1]\n",
        "\n",
        "chol_50 = -(intercept + beta_age * 55) / beta_chol\n",
        "print(f\"Cholesterol needed for 50% threshold: {chol_50:.2f}\")"
      ]
    },
    {
      "cell_type": "code",
      "execution_count": 75,
      "metadata": {},
      "outputs": [
        {
          "name": "stdout",
          "output_type": "stream",
          "text": [
            "Cholesterol needed for 90% threshold: 1587.72\n",
            "Cholesterol needed for 90% threshold: 1587.72\n"
          ]
        }
      ],
      "source": [
        "log_odds_90 = np.log(0.9 / (1 - 0.9))\n",
        "chol_90 = (log_odds_90 - intercept - beta_age * 55) / beta_chol\n",
        "print(f\"Cholesterol needed for 90% threshold: {chol_90:.2f}\")"
      ]
    },
    {
      "cell_type": "markdown",
      "metadata": {
        "id": "t6Gfcspn9EYy"
      },
      "source": [
        "## 2. Linear Discriminant Analysis\n",
        "\n",
        "Fit an LDA model using only `age` and `chol` (cholesterol)  as predictors.\n",
        "\n",
        "For a 55 year old, how high would their cholesterol need to be for the doctors to predict heart disease is present?"
      ]
    },
    {
      "cell_type": "code",
      "execution_count": 76,
      "metadata": {},
      "outputs": [],
      "source": [
        "from sklearn.discriminant_analysis import LinearDiscriminantAnalysis"
      ]
    },
    {
      "cell_type": "code",
      "execution_count": 77,
      "metadata": {
        "id": "xEE5FPAs9S29"
      },
      "outputs": [
        {
          "name": "stdout",
          "output_type": "stream",
          "text": [
            "coefs:  [0.04655744 0.00178967] , intercept: -3.2196776604068775\n",
            "coefs:  [0.04655744 0.00178967] , intercept: -3.2196776604068775\n"
          ]
        }
      ],
      "source": [
        "lda_pipe = Pipeline(\n",
        "  [(\"preprocessing\", ct),\n",
        "  (\"lda\", LinearDiscriminantAnalysis())]\n",
        ")\n",
        "\n",
        "lda_pipe.fit(X, y)\n",
        "\n",
        "coefs = lda_pipe.named_steps[\"lda\"].coef_[0]\n",
        "intercept = lda_pipe.named_steps[\"lda\"].intercept_[0]\n",
        "print(\"coefs: \", coefs ,\", intercept:\", intercept)"
      ]
    },
    {
      "cell_type": "code",
      "execution_count": 78,
      "metadata": {},
      "outputs": [
        {
          "name": "stdout",
          "output_type": "stream",
          "text": [
            "Cholesterol needed for prediction of heart disease: 368.24\n",
            "Cholesterol needed for prediction of heart disease: 368.24\n"
          ]
        }
      ],
      "source": [
        "beta_age = coefs[0]\n",
        "beta_chol = coefs[1]\n",
        "\n",
        "chol_50 = -(intercept + beta_age * 55) / beta_chol\n",
        "print(f\"Cholesterol needed for prediction of heart disease: {chol_50:.2f}\")"
      ]
    },
    {
      "cell_type": "markdown",
      "metadata": {
        "id": "RdRR4Evq9THQ"
      },
      "source": [
        "## 3. Support Vector Classifier\n",
        "\n",
        "Fit an SVC model using only `age` and `chol` as predictors.  Don't forget to tune the regularization parameter.\n",
        "\n",
        "For a 55 year old, how high would their cholesterol need to be for the doctors to predict heart disease is present?"
      ]
    },
    {
      "cell_type": "code",
      "execution_count": 79,
      "metadata": {},
      "outputs": [],
      "source": [
        "from sklearn.model_selection import train_test_split, GridSearchCV\n",
        "from sklearn.svm import SVC\n"
      ]
    },
    {
      "cell_type": "code",
      "execution_count": 80,
      "metadata": {
        "id": "QM0zJ8JN9XS9"
      },
      "outputs": [
        {
          "name": "stdout",
          "output_type": "stream",
          "text": [
            "{'svc__C': 0.1}\n",
            "{'svc__C': 0.1}\n"
          ]
        }
      ],
      "source": [
        "svc_pipe = Pipeline(\n",
        "  [(\"preprocessing\", ct),\n",
        "  (\"svc\", SVC(kernel='linear'))]\n",
        ")\n",
        "\n",
        "param_grid = {'svc__C': [0.1, 1, 10, 100]}\n",
        "grid_search = GridSearchCV(svc_pipe, param_grid, cv=5)\n",
        "grid_search.fit(X, y)\n",
        "print(grid_search.best_params_)"
      ]
    },
    {
      "cell_type": "code",
      "execution_count": 81,
      "metadata": {},
      "outputs": [
        {
          "name": "stdout",
          "output_type": "stream",
          "text": [
            "Cholesterol needed for prediction of heart disease: 312.69\n",
            "Cholesterol needed for prediction of heart disease: 312.69\n"
          ]
        }
      ],
      "source": [
        "best_svc = grid_search.best_estimator_\n",
        "\n",
        "beta_age = best_svc.named_steps[\"svc\"].coef_[0][0]\n",
        "beta_chol = best_svc.named_steps[\"svc\"].coef_[0][1]\n",
        "intercept = best_svc.named_steps[\"svc\"].intercept_[0]\n",
        "\n",
        "chol_50 = -(beta_age * 55 + intercept) / beta_chol\n",
        "\n",
        "print(f\"Cholesterol needed for prediction of heart disease: {chol_50:.2f}\")"
      ]
    },
    {
      "cell_type": "markdown",
      "metadata": {
        "id": "badaMBzw-MsM"
      },
      "source": [
        "## 4. Comparing Decision Boundaries\n",
        "\n",
        "Make a scatterplot of `age` and `chol`, coloring the points by their true disease outcome.  Add a line to the plot representing the **linear separator** (aka **decision boundary**) for each of the three models above."
      ]
    }
  ],
  "metadata": {
    "colab": {
      "provenance": []
    },
    "kernelspec": {
      "display_name": "Python 3",
      "name": "python3"
    },
    "language_info": {
      "name": "python"
    }
  },
  "nbformat": 4,
  "nbformat_minor": 0
}
