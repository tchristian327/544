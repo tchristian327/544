{
  "cells": [
    {
      "cell_type": "markdown",
      "metadata": {
        "id": "P_N9XP2-04VH"
      },
      "source": [
        "\n",
        "Our dataset consists of clinical data from patients who entered the hospital complaining of chest pain (\"angina\") during exercise.  The information collected includes:\n",
        "\n",
        "* `age` : Age of the patient\n",
        "\n",
        "* `sex` : Sex of the patient\n",
        "\n",
        "* `cp` : Chest Pain type\n",
        "\n",
        "    + Value 0: asymptomatic\n",
        "    + Value 1: typical angina\n",
        "    + Value 2: atypical angina\n",
        "    + Value 3: non-anginal pain\n",
        "   \n",
        "    \n",
        "* `trtbps` : resting blood pressure (in mm Hg)\n",
        "\n",
        "* `chol` : cholesterol in mg/dl fetched via BMI sensor\n",
        "\n",
        "* `restecg` : resting electrocardiographic results\n",
        "\n",
        "    + Value 0: normal\n",
        "    + Value 1: having ST-T wave abnormality (T wave inversions and/or ST elevation or depression of > 0.05 mV)\n",
        "    + Value 2: showing probable or definite left ventricular hypertrophy by Estes' criteria\n",
        "\n",
        "* `thalach` : maximum heart rate achieved during exercise\n",
        "\n",
        "* `output` : the doctor's diagnosis of whether the patient is at risk for a heart attack\n",
        "    + 0 = not at risk of heart attack\n",
        "    + 1 = at risk of heart attack"
      ]
    },
    {
      "cell_type": "code",
      "execution_count": 79,
      "metadata": {
        "id": "tZmjmGGQ1CaN"
      },
      "outputs": [],
      "source": [
        "import pandas as pd\n",
        "import numpy as np\n",
        "from sklearn.pipeline import Pipeline\n",
        "from sklearn.neighbors import KNeighborsClassifier\n",
        "from sklearn.tree import DecisionTreeClassifier\n",
        "from sklearn.linear_model import LogisticRegression\n",
        "from sklearn.compose import make_column_selector, ColumnTransformer\n",
        "from sklearn.preprocessing import StandardScaler\n",
        "from sklearn.model_selection import train_test_split, cross_val_score, GridSearchCV"
      ]
    },
    {
      "cell_type": "code",
      "execution_count": 80,
      "metadata": {
        "id": "ghXbwhv600-S"
      },
      "outputs": [],
      "source": [
        "ha = pd.read_csv(\"https://www.dropbox.com/s/aohbr6yb9ifmc8w/heart_attack.csv?dl=1\")"
      ]
    },
    {
      "cell_type": "markdown",
      "metadata": {
        "id": "OCX180v41bhe"
      },
      "source": [
        "## Q1: Natural Multiclass Models\n",
        "\n",
        "Fit a multiclass KNN, Decision Tree, and LDA for the heart disease data; this time predicting the type of chest pain (categories 0 - 3) that a patient experiences.  For the decision tree, plot the fitted tree, and interpret the first couple splits.\n"
      ]
    },
    {
      "cell_type": "markdown",
      "metadata": {
        "id": "gYqpOtbO1EAJ"
      },
      "source": [
        "## Q2:  OvR\n",
        "\n",
        "Create a new column in the `ha` dataset called `cp_is_3`, which is equal to `1` if the `cp` variable is equal to `3` and `0` otherwise.\n",
        "\n",
        "Then, fit a Logistic Regression to predict this new target, and report the **F1 Score**.\n",
        "\n",
        "Repeat for the other three `cp` categories.  Which category was the OvR approach best at distinguishing?"
      ]
    },
    {
      "cell_type": "code",
      "execution_count": 81,
      "metadata": {
        "id": "90PfjsjW1T2Y"
      },
      "outputs": [],
      "source": [
        "ha[\"cp_is_3\"] = (ha[\"cp\"] == 3).astype('int')"
      ]
    },
    {
      "cell_type": "code",
      "execution_count": 82,
      "metadata": {},
      "outputs": [],
      "source": [
        "X = ha.drop([\"cp_is_3\"], axis = 1)\n",
        "y = ha[\"cp_is_3\"]\n",
        "\n",
        "ct = ColumnTransformer(\n",
        "  [\n",
        "    (\"standardize\", \n",
        "    StandardScaler(), \n",
        "    make_column_selector(dtype_include=np.number))\n",
        "  ],\n",
        "  remainder = \"passthrough\"\n",
        ")\n",
        "\n",
        "log_pipe = Pipeline(\n",
        "    [(\"preprocessing\", ct),\n",
        "    (\"logistic_regression\", LogisticRegression())]\n",
        ")"
      ]
    },
    {
      "cell_type": "code",
      "execution_count": 83,
      "metadata": {},
      "outputs": [
        {
          "data": {
            "text/plain": [
              "0.9830157279176885"
            ]
          },
          "execution_count": null,
          "metadata": {},
          "output_type": "execute_result"
        }
      ],
      "source": [
        "log_pipe.fit(X, y)\n",
        "scores = cross_val_score(log_pipe, X, y, cv=5, scoring='f1_weighted')\n",
        "scores.mean()"
      ]
    },
    {
      "cell_type": "code",
      "execution_count": 84,
      "metadata": {},
      "outputs": [
        {
          "data": {
            "text/plain": [
              "0.8362721582110308"
            ]
          },
          "execution_count": null,
          "metadata": {},
          "output_type": "execute_result"
        }
      ],
      "source": [
        "ha = pd.read_csv(\"https://www.dropbox.com/s/aohbr6yb9ifmc8w/heart_attack.csv?dl=1\")\n",
        "\n",
        "ha[\"cp_is_2\"] = (ha[\"cp\"] == 2).astype('int')\n",
        "X = ha.drop([\"cp_is_2\"], axis = 1)\n",
        "y = ha[\"cp_is_2\"]\n",
        "\n",
        "log_pipe.fit(X, y)\n",
        "scores = cross_val_score(log_pipe, X, y, cv=5, scoring='f1_weighted')\n",
        "scores.mean()"
      ]
    },
    {
      "cell_type": "code",
      "execution_count": 85,
      "metadata": {},
      "outputs": [
        {
          "data": {
            "text/plain": [
              "0.7668272106122176"
            ]
          },
          "execution_count": null,
          "metadata": {},
          "output_type": "execute_result"
        }
      ],
      "source": [
        "ha = pd.read_csv(\"https://www.dropbox.com/s/aohbr6yb9ifmc8w/heart_attack.csv?dl=1\")\n",
        "\n",
        "ha[\"cp_is_1\"] = (ha[\"cp\"] == 1).astype('int')\n",
        "X = ha.drop([\"cp_is_1\"], axis = 1)\n",
        "y = ha[\"cp_is_1\"]\n",
        "\n",
        "log_pipe.fit(X, y)\n",
        "scores = cross_val_score(log_pipe, X, y, cv=5, scoring='f1_weighted')\n",
        "scores.mean()"
      ]
    },
    {
      "cell_type": "code",
      "execution_count": 86,
      "metadata": {},
      "outputs": [
        {
          "data": {
            "text/plain": [
              "0.9851851851851852"
            ]
          },
          "execution_count": null,
          "metadata": {},
          "output_type": "execute_result"
        }
      ],
      "source": [
        "ha = pd.read_csv(\"https://www.dropbox.com/s/aohbr6yb9ifmc8w/heart_attack.csv?dl=1\")\n",
        "\n",
        "ha[\"cp_is_0\"] = (ha[\"cp\"] == 0).astype('int')\n",
        "X = ha.drop([\"cp_is_0\"], axis = 1)\n",
        "y = ha[\"cp_is_0\"]\n",
        "\n",
        "log_pipe.fit(X, y)\n",
        "scores = cross_val_score(log_pipe, X, y, cv=5, scoring='f1_weighted')\n",
        "scores.mean()"
      ]
    },
    {
      "cell_type": "markdown",
      "metadata": {},
      "source": [
        "It seems like OvR was best at distinguishing cp=0. It did slightly better distinguishing this from cp=3."
      ]
    },
    {
      "cell_type": "markdown",
      "metadata": {
        "id": "lXO3jbTU1ULR"
      },
      "source": [
        "## Q3: OvO\n",
        "\n",
        "Reduce your dataset to only the `0` and `1` types of chest pain.\n",
        "\n",
        "Then, fit a Logistic Regression to predict between the two groups, and report the **ROC-AUC**.  \n",
        "\n",
        "Repeat comparing category `0` to `2` and `3`.  Which pair was the OvO approach best at distinguishing?"
      ]
    },
    {
      "cell_type": "code",
      "execution_count": 87,
      "metadata": {
        "id": "THrjnRoV1siy"
      },
      "outputs": [
        {
          "data": {
            "text/plain": [
              "0.8376709401709401"
            ]
          },
          "execution_count": null,
          "metadata": {},
          "output_type": "execute_result"
        }
      ],
      "source": [
        "ha = pd.read_csv(\"https://www.dropbox.com/s/aohbr6yb9ifmc8w/heart_attack.csv?dl=1\")\n",
        "\n",
        "ha = ha[(ha['cp'] != 2) & (ha['cp'] != 3)]\n",
        "X = ha.drop([\"cp\"], axis = 1)\n",
        "y = ha[\"cp\"]\n",
        "\n",
        "log_pipe.fit(X, y)\n",
        "scores = cross_val_score(log_pipe, X, y, cv=5, scoring='roc_auc')\n",
        "scores.mean()"
      ]
    },
    {
      "cell_type": "code",
      "execution_count": 88,
      "metadata": {},
      "outputs": [
        {
          "data": {
            "text/plain": [
              "0.7515837104072398"
            ]
          },
          "execution_count": null,
          "metadata": {},
          "output_type": "execute_result"
        }
      ],
      "source": [
        "ha = pd.read_csv(\"https://www.dropbox.com/s/aohbr6yb9ifmc8w/heart_attack.csv?dl=1\")\n",
        "\n",
        "ha = ha[(ha['cp'] != 1) & (ha['cp'] != 3)]\n",
        "X = ha.drop([\"cp\"], axis = 1)\n",
        "y = ha[\"cp\"]\n",
        "\n",
        "log_pipe.fit(X, y)\n",
        "scores = cross_val_score(log_pipe, X, y, cv=5, scoring='roc_auc')\n",
        "scores.mean()"
      ]
    },
    {
      "cell_type": "code",
      "execution_count": 89,
      "metadata": {},
      "outputs": [
        {
          "data": {
            "text/plain": [
              "0.7412307692307692"
            ]
          },
          "execution_count": null,
          "metadata": {},
          "output_type": "execute_result"
        }
      ],
      "source": [
        "ha = pd.read_csv(\"https://www.dropbox.com/s/aohbr6yb9ifmc8w/heart_attack.csv?dl=1\")\n",
        "\n",
        "ha = ha[(ha['cp'] != 2) & (ha['cp'] != 1)]\n",
        "X = ha.drop([\"cp\"], axis = 1)\n",
        "y = ha[\"cp\"]\n",
        "\n",
        "log_pipe.fit(X, y)\n",
        "scores = cross_val_score(log_pipe, X, y, cv=5, scoring='roc_auc')\n",
        "scores.mean()"
      ]
    },
    {
      "cell_type": "markdown",
      "metadata": {},
      "source": [
        "The OvO model was best at distinguishing between chest pains 0 and 1."
      ]
    }
  ],
  "metadata": {
    "colab": {
      "provenance": []
    },
    "kernelspec": {
      "display_name": "Python 3",
      "name": "python3"
    },
    "language_info": {
      "name": "python"
    }
  },
  "nbformat": 4,
  "nbformat_minor": 0
}
